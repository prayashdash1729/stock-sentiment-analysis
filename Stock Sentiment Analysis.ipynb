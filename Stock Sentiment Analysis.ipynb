{
 "cells": [
  {
   "cell_type": "markdown",
   "metadata": {},
   "source": [
    "## Stock Sentiment Analysis using News Headlines"
   ]
  },
  {
   "cell_type": "code",
   "execution_count": 1,
   "metadata": {},
   "outputs": [],
   "source": [
    "import pandas as pd\n",
    "import numpy as np"
   ]
  },
  {
   "cell_type": "code",
   "execution_count": 2,
   "metadata": {},
   "outputs": [],
   "source": [
    "df=pd.read_csv('Data.csv', encoding = \"ISO-8859-1\")"
   ]
  },
  {
   "cell_type": "code",
   "execution_count": 3,
   "metadata": {},
   "outputs": [
    {
     "data": {
      "text/html": [
       "<div>\n",
       "<style scoped>\n",
       "    .dataframe tbody tr th:only-of-type {\n",
       "        vertical-align: middle;\n",
       "    }\n",
       "\n",
       "    .dataframe tbody tr th {\n",
       "        vertical-align: top;\n",
       "    }\n",
       "\n",
       "    .dataframe thead th {\n",
       "        text-align: right;\n",
       "    }\n",
       "</style>\n",
       "<table border=\"1\" class=\"dataframe\">\n",
       "  <thead>\n",
       "    <tr style=\"text-align: right;\">\n",
       "      <th></th>\n",
       "      <th>Date</th>\n",
       "      <th>Label</th>\n",
       "      <th>Top1</th>\n",
       "      <th>Top2</th>\n",
       "      <th>Top3</th>\n",
       "      <th>Top4</th>\n",
       "      <th>Top5</th>\n",
       "      <th>Top6</th>\n",
       "      <th>Top7</th>\n",
       "      <th>Top8</th>\n",
       "      <th>...</th>\n",
       "      <th>Top16</th>\n",
       "      <th>Top17</th>\n",
       "      <th>Top18</th>\n",
       "      <th>Top19</th>\n",
       "      <th>Top20</th>\n",
       "      <th>Top21</th>\n",
       "      <th>Top22</th>\n",
       "      <th>Top23</th>\n",
       "      <th>Top24</th>\n",
       "      <th>Top25</th>\n",
       "    </tr>\n",
       "  </thead>\n",
       "  <tbody>\n",
       "    <tr>\n",
       "      <th>0</th>\n",
       "      <td>2000-01-03</td>\n",
       "      <td>0</td>\n",
       "      <td>A 'hindrance to operations': extracts from the...</td>\n",
       "      <td>Scorecard</td>\n",
       "      <td>Hughes' instant hit buoys Blues</td>\n",
       "      <td>Jack gets his skates on at ice-cold Alex</td>\n",
       "      <td>Chaos as Maracana builds up for United</td>\n",
       "      <td>Depleted Leicester prevail as Elliott spoils E...</td>\n",
       "      <td>Hungry Spurs sense rich pickings</td>\n",
       "      <td>Gunners so wide of an easy target</td>\n",
       "      <td>...</td>\n",
       "      <td>Flintoff injury piles on woe for England</td>\n",
       "      <td>Hunters threaten Jospin with new battle of the...</td>\n",
       "      <td>Kohl's successor drawn into scandal</td>\n",
       "      <td>The difference between men and women</td>\n",
       "      <td>Sara Denver, nurse turned solicitor</td>\n",
       "      <td>Diana's landmine crusade put Tories in a panic</td>\n",
       "      <td>Yeltsin's resignation caught opposition flat-f...</td>\n",
       "      <td>Russian roulette</td>\n",
       "      <td>Sold out</td>\n",
       "      <td>Recovering a title</td>\n",
       "    </tr>\n",
       "    <tr>\n",
       "      <th>1</th>\n",
       "      <td>2000-01-04</td>\n",
       "      <td>0</td>\n",
       "      <td>Scorecard</td>\n",
       "      <td>The best lake scene</td>\n",
       "      <td>Leader: German sleaze inquiry</td>\n",
       "      <td>Cheerio, boyo</td>\n",
       "      <td>The main recommendations</td>\n",
       "      <td>Has Cubie killed fees?</td>\n",
       "      <td>Has Cubie killed fees?</td>\n",
       "      <td>Has Cubie killed fees?</td>\n",
       "      <td>...</td>\n",
       "      <td>On the critical list</td>\n",
       "      <td>The timing of their lives</td>\n",
       "      <td>Dear doctor</td>\n",
       "      <td>Irish court halts IRA man's extradition to Nor...</td>\n",
       "      <td>Burundi peace initiative fades after rebels re...</td>\n",
       "      <td>PE points the way forward to the ECB</td>\n",
       "      <td>Campaigners keep up pressure on Nazi war crime...</td>\n",
       "      <td>Jane Ratcliffe</td>\n",
       "      <td>Yet more things you wouldn't know without the ...</td>\n",
       "      <td>Millennium bug fails to bite</td>\n",
       "    </tr>\n",
       "    <tr>\n",
       "      <th>2</th>\n",
       "      <td>2000-01-05</td>\n",
       "      <td>0</td>\n",
       "      <td>Coventry caught on counter by Flo</td>\n",
       "      <td>United's rivals on the road to Rio</td>\n",
       "      <td>Thatcher issues defence before trial by video</td>\n",
       "      <td>Police help Smith lay down the law at Everton</td>\n",
       "      <td>Tale of Trautmann bears two more retellings</td>\n",
       "      <td>England on the rack</td>\n",
       "      <td>Pakistan retaliate with call for video of Walsh</td>\n",
       "      <td>Cullinan continues his Cape monopoly</td>\n",
       "      <td>...</td>\n",
       "      <td>South Melbourne (Australia)</td>\n",
       "      <td>Necaxa (Mexico)</td>\n",
       "      <td>Real Madrid (Spain)</td>\n",
       "      <td>Raja Casablanca (Morocco)</td>\n",
       "      <td>Corinthians (Brazil)</td>\n",
       "      <td>Tony's pet project</td>\n",
       "      <td>Al Nassr (Saudi Arabia)</td>\n",
       "      <td>Ideal Holmes show</td>\n",
       "      <td>Pinochet leaves hospital after tests</td>\n",
       "      <td>Useful links</td>\n",
       "    </tr>\n",
       "    <tr>\n",
       "      <th>3</th>\n",
       "      <td>2000-01-06</td>\n",
       "      <td>1</td>\n",
       "      <td>Pilgrim knows how to progress</td>\n",
       "      <td>Thatcher facing ban</td>\n",
       "      <td>McIlroy calls for Irish fighting spirit</td>\n",
       "      <td>Leicester bin stadium blueprint</td>\n",
       "      <td>United braced for Mexican wave</td>\n",
       "      <td>Auntie back in fashion, even if the dress look...</td>\n",
       "      <td>Shoaib appeal goes to the top</td>\n",
       "      <td>Hussain hurt by 'shambles' but lays blame on e...</td>\n",
       "      <td>...</td>\n",
       "      <td>Putin admits Yeltsin quit to give him a head s...</td>\n",
       "      <td>BBC worst hit as digital TV begins to bite</td>\n",
       "      <td>How much can you pay for...</td>\n",
       "      <td>Christmas glitches</td>\n",
       "      <td>Upending a table, Chopping a line and Scoring ...</td>\n",
       "      <td>Scientific evidence 'unreliable', defence claims</td>\n",
       "      <td>Fusco wins judicial review in extradition case</td>\n",
       "      <td>Rebels thwart Russian advance</td>\n",
       "      <td>Blair orders shake-up of failing NHS</td>\n",
       "      <td>Lessons of law's hard heart</td>\n",
       "    </tr>\n",
       "    <tr>\n",
       "      <th>4</th>\n",
       "      <td>2000-01-07</td>\n",
       "      <td>1</td>\n",
       "      <td>Hitches and Horlocks</td>\n",
       "      <td>Beckham off but United survive</td>\n",
       "      <td>Breast cancer screening</td>\n",
       "      <td>Alan Parker</td>\n",
       "      <td>Guardian readers: are you all whingers?</td>\n",
       "      <td>Hollywood Beyond</td>\n",
       "      <td>Ashes and diamonds</td>\n",
       "      <td>Whingers - a formidable minority</td>\n",
       "      <td>...</td>\n",
       "      <td>Most everywhere:  UDIs</td>\n",
       "      <td>Most wanted:  Chloe lunettes</td>\n",
       "      <td>Return of the cane 'completely off the agenda'</td>\n",
       "      <td>From Sleepy Hollow to Greeneland</td>\n",
       "      <td>Blunkett outlines vision for over 11s</td>\n",
       "      <td>Embattled Dobson attacks 'play now, pay later'...</td>\n",
       "      <td>Doom and the Dome</td>\n",
       "      <td>What is the north-south divide?</td>\n",
       "      <td>Aitken released from jail</td>\n",
       "      <td>Gone aloft</td>\n",
       "    </tr>\n",
       "  </tbody>\n",
       "</table>\n",
       "<p>5 rows × 27 columns</p>\n",
       "</div>"
      ],
      "text/plain": [
       "         Date  Label                                               Top1  \\\n",
       "0  2000-01-03      0  A 'hindrance to operations': extracts from the...   \n",
       "1  2000-01-04      0                                          Scorecard   \n",
       "2  2000-01-05      0                  Coventry caught on counter by Flo   \n",
       "3  2000-01-06      1                      Pilgrim knows how to progress   \n",
       "4  2000-01-07      1                               Hitches and Horlocks   \n",
       "\n",
       "                                 Top2  \\\n",
       "0                           Scorecard   \n",
       "1                 The best lake scene   \n",
       "2  United's rivals on the road to Rio   \n",
       "3                 Thatcher facing ban   \n",
       "4      Beckham off but United survive   \n",
       "\n",
       "                                            Top3  \\\n",
       "0                Hughes' instant hit buoys Blues   \n",
       "1                  Leader: German sleaze inquiry   \n",
       "2  Thatcher issues defence before trial by video   \n",
       "3        McIlroy calls for Irish fighting spirit   \n",
       "4                        Breast cancer screening   \n",
       "\n",
       "                                            Top4  \\\n",
       "0       Jack gets his skates on at ice-cold Alex   \n",
       "1                                  Cheerio, boyo   \n",
       "2  Police help Smith lay down the law at Everton   \n",
       "3                Leicester bin stadium blueprint   \n",
       "4                                    Alan Parker   \n",
       "\n",
       "                                          Top5  \\\n",
       "0       Chaos as Maracana builds up for United   \n",
       "1                     The main recommendations   \n",
       "2  Tale of Trautmann bears two more retellings   \n",
       "3               United braced for Mexican wave   \n",
       "4      Guardian readers: are you all whingers?   \n",
       "\n",
       "                                                Top6  \\\n",
       "0  Depleted Leicester prevail as Elliott spoils E...   \n",
       "1                             Has Cubie killed fees?   \n",
       "2                                England on the rack   \n",
       "3  Auntie back in fashion, even if the dress look...   \n",
       "4                                   Hollywood Beyond   \n",
       "\n",
       "                                              Top7  \\\n",
       "0                 Hungry Spurs sense rich pickings   \n",
       "1                           Has Cubie killed fees?   \n",
       "2  Pakistan retaliate with call for video of Walsh   \n",
       "3                    Shoaib appeal goes to the top   \n",
       "4                               Ashes and diamonds   \n",
       "\n",
       "                                                Top8  ...  \\\n",
       "0                  Gunners so wide of an easy target  ...   \n",
       "1                             Has Cubie killed fees?  ...   \n",
       "2               Cullinan continues his Cape monopoly  ...   \n",
       "3  Hussain hurt by 'shambles' but lays blame on e...  ...   \n",
       "4                   Whingers - a formidable minority  ...   \n",
       "\n",
       "                                               Top16  \\\n",
       "0           Flintoff injury piles on woe for England   \n",
       "1                               On the critical list   \n",
       "2                        South Melbourne (Australia)   \n",
       "3  Putin admits Yeltsin quit to give him a head s...   \n",
       "4                             Most everywhere:  UDIs   \n",
       "\n",
       "                                               Top17  \\\n",
       "0  Hunters threaten Jospin with new battle of the...   \n",
       "1                          The timing of their lives   \n",
       "2                                    Necaxa (Mexico)   \n",
       "3         BBC worst hit as digital TV begins to bite   \n",
       "4                       Most wanted:  Chloe lunettes   \n",
       "\n",
       "                                            Top18  \\\n",
       "0             Kohl's successor drawn into scandal   \n",
       "1                                     Dear doctor   \n",
       "2                             Real Madrid (Spain)   \n",
       "3                     How much can you pay for...   \n",
       "4  Return of the cane 'completely off the agenda'   \n",
       "\n",
       "                                               Top19  \\\n",
       "0               The difference between men and women   \n",
       "1  Irish court halts IRA man's extradition to Nor...   \n",
       "2                          Raja Casablanca (Morocco)   \n",
       "3                                 Christmas glitches   \n",
       "4                   From Sleepy Hollow to Greeneland   \n",
       "\n",
       "                                               Top20  \\\n",
       "0                Sara Denver, nurse turned solicitor   \n",
       "1  Burundi peace initiative fades after rebels re...   \n",
       "2                               Corinthians (Brazil)   \n",
       "3  Upending a table, Chopping a line and Scoring ...   \n",
       "4              Blunkett outlines vision for over 11s   \n",
       "\n",
       "                                               Top21  \\\n",
       "0     Diana's landmine crusade put Tories in a panic   \n",
       "1               PE points the way forward to the ECB   \n",
       "2                                 Tony's pet project   \n",
       "3   Scientific evidence 'unreliable', defence claims   \n",
       "4  Embattled Dobson attacks 'play now, pay later'...   \n",
       "\n",
       "                                               Top22  \\\n",
       "0  Yeltsin's resignation caught opposition flat-f...   \n",
       "1  Campaigners keep up pressure on Nazi war crime...   \n",
       "2                            Al Nassr (Saudi Arabia)   \n",
       "3     Fusco wins judicial review in extradition case   \n",
       "4                                  Doom and the Dome   \n",
       "\n",
       "                             Top23  \\\n",
       "0                 Russian roulette   \n",
       "1                   Jane Ratcliffe   \n",
       "2                Ideal Holmes show   \n",
       "3    Rebels thwart Russian advance   \n",
       "4  What is the north-south divide?   \n",
       "\n",
       "                                               Top24  \\\n",
       "0                                           Sold out   \n",
       "1  Yet more things you wouldn't know without the ...   \n",
       "2               Pinochet leaves hospital after tests   \n",
       "3               Blair orders shake-up of failing NHS   \n",
       "4                          Aitken released from jail   \n",
       "\n",
       "                          Top25  \n",
       "0            Recovering a title  \n",
       "1  Millennium bug fails to bite  \n",
       "2                  Useful links  \n",
       "3   Lessons of law's hard heart  \n",
       "4                    Gone aloft  \n",
       "\n",
       "[5 rows x 27 columns]"
      ]
     },
     "execution_count": 3,
     "metadata": {},
     "output_type": "execute_result"
    }
   ],
   "source": [
    "df.head()"
   ]
  },
  {
   "cell_type": "code",
   "execution_count": 4,
   "metadata": {},
   "outputs": [
    {
     "name": "stdout",
     "output_type": "stream",
     "text": [
      "<class 'pandas.core.frame.DataFrame'>\n",
      "RangeIndex: 4101 entries, 0 to 4100\n",
      "Data columns (total 27 columns):\n",
      " #   Column  Non-Null Count  Dtype \n",
      "---  ------  --------------  ----- \n",
      " 0   Date    4101 non-null   object\n",
      " 1   Label   4101 non-null   int64 \n",
      " 2   Top1    4101 non-null   object\n",
      " 3   Top2    4101 non-null   object\n",
      " 4   Top3    4101 non-null   object\n",
      " 5   Top4    4101 non-null   object\n",
      " 6   Top5    4101 non-null   object\n",
      " 7   Top6    4101 non-null   object\n",
      " 8   Top7    4101 non-null   object\n",
      " 9   Top8    4101 non-null   object\n",
      " 10  Top9    4101 non-null   object\n",
      " 11  Top10   4101 non-null   object\n",
      " 12  Top11   4101 non-null   object\n",
      " 13  Top12   4101 non-null   object\n",
      " 14  Top13   4101 non-null   object\n",
      " 15  Top14   4101 non-null   object\n",
      " 16  Top15   4101 non-null   object\n",
      " 17  Top16   4101 non-null   object\n",
      " 18  Top17   4101 non-null   object\n",
      " 19  Top18   4101 non-null   object\n",
      " 20  Top19   4101 non-null   object\n",
      " 21  Top20   4101 non-null   object\n",
      " 22  Top21   4101 non-null   object\n",
      " 23  Top22   4101 non-null   object\n",
      " 24  Top23   4100 non-null   object\n",
      " 25  Top24   4098 non-null   object\n",
      " 26  Top25   4098 non-null   object\n",
      "dtypes: int64(1), object(26)\n",
      "memory usage: 865.2+ KB\n"
     ]
    }
   ],
   "source": [
    "df.info()"
   ]
  },
  {
   "cell_type": "code",
   "execution_count": 5,
   "metadata": {},
   "outputs": [
    {
     "data": {
      "text/plain": [
       "Date     0\n",
       "Label    0\n",
       "Top1     0\n",
       "Top2     0\n",
       "Top3     0\n",
       "Top4     0\n",
       "Top5     0\n",
       "Top6     0\n",
       "Top7     0\n",
       "Top8     0\n",
       "Top9     0\n",
       "Top10    0\n",
       "Top11    0\n",
       "Top12    0\n",
       "Top13    0\n",
       "Top14    0\n",
       "Top15    0\n",
       "Top16    0\n",
       "Top17    0\n",
       "Top18    0\n",
       "Top19    0\n",
       "Top20    0\n",
       "Top21    0\n",
       "Top22    0\n",
       "Top23    1\n",
       "Top24    3\n",
       "Top25    3\n",
       "dtype: int64"
      ]
     },
     "execution_count": 5,
     "metadata": {},
     "output_type": "execute_result"
    }
   ],
   "source": [
    "df.isnull().sum()"
   ]
  },
  {
   "cell_type": "code",
   "execution_count": 6,
   "metadata": {},
   "outputs": [
    {
     "data": {
      "text/plain": [
       "'2000-01-03'"
      ]
     },
     "execution_count": 6,
     "metadata": {},
     "output_type": "execute_result"
    }
   ],
   "source": [
    "df['Date'].min()"
   ]
  },
  {
   "cell_type": "code",
   "execution_count": 7,
   "metadata": {},
   "outputs": [
    {
     "data": {
      "text/plain": [
       "'2016-07-01'"
      ]
     },
     "execution_count": 7,
     "metadata": {},
     "output_type": "execute_result"
    }
   ],
   "source": [
    "df['Date'].max()"
   ]
  },
  {
   "cell_type": "code",
   "execution_count": 8,
   "metadata": {},
   "outputs": [
    {
     "data": {
      "text/plain": [
       "(4101, 27)"
      ]
     },
     "execution_count": 8,
     "metadata": {},
     "output_type": "execute_result"
    }
   ],
   "source": [
    "df.shape"
   ]
  },
  {
   "cell_type": "code",
   "execution_count": 9,
   "metadata": {},
   "outputs": [
    {
     "data": {
      "text/plain": [
       "800.0"
      ]
     },
     "execution_count": 9,
     "metadata": {},
     "output_type": "execute_result"
    }
   ],
   "source": [
    "0.2*4000"
   ]
  },
  {
   "cell_type": "code",
   "execution_count": 10,
   "metadata": {},
   "outputs": [
    {
     "data": {
      "text/plain": [
       "778"
      ]
     },
     "execution_count": 10,
     "metadata": {},
     "output_type": "execute_result"
    }
   ],
   "source": [
    "df[df['Date'] > '2013-06-01'].__len__()"
   ]
  },
  {
   "cell_type": "code",
   "execution_count": 29,
   "metadata": {},
   "outputs": [],
   "source": [
    "# train = df[df['Date'] <= '2013-06-01']\n",
    "# test = df[df['Date'] > '2013-06-01']\n",
    "\n",
    "# test train split\n",
    "from sklearn.model_selection import train_test_split\n",
    "\n",
    "X_train, X_test, y_train, y_test = train_test_split(df, df['Label'], test_size=0.3, random_state=0)"
   ]
  },
  {
   "cell_type": "code",
   "execution_count": 30,
   "metadata": {},
   "outputs": [
    {
     "data": {
      "text/html": [
       "<div>\n",
       "<style scoped>\n",
       "    .dataframe tbody tr th:only-of-type {\n",
       "        vertical-align: middle;\n",
       "    }\n",
       "\n",
       "    .dataframe tbody tr th {\n",
       "        vertical-align: top;\n",
       "    }\n",
       "\n",
       "    .dataframe thead th {\n",
       "        text-align: right;\n",
       "    }\n",
       "</style>\n",
       "<table border=\"1\" class=\"dataframe\">\n",
       "  <thead>\n",
       "    <tr style=\"text-align: right;\">\n",
       "      <th></th>\n",
       "      <th>Date</th>\n",
       "      <th>Label</th>\n",
       "      <th>Top1</th>\n",
       "      <th>Top2</th>\n",
       "      <th>Top3</th>\n",
       "      <th>Top4</th>\n",
       "      <th>Top5</th>\n",
       "      <th>Top6</th>\n",
       "      <th>Top7</th>\n",
       "      <th>Top8</th>\n",
       "      <th>...</th>\n",
       "      <th>Top16</th>\n",
       "      <th>Top17</th>\n",
       "      <th>Top18</th>\n",
       "      <th>Top19</th>\n",
       "      <th>Top20</th>\n",
       "      <th>Top21</th>\n",
       "      <th>Top22</th>\n",
       "      <th>Top23</th>\n",
       "      <th>Top24</th>\n",
       "      <th>Top25</th>\n",
       "    </tr>\n",
       "  </thead>\n",
       "  <tbody>\n",
       "    <tr>\n",
       "      <th>3893</th>\n",
       "      <td>2015-09-04</td>\n",
       "      <td>0</td>\n",
       "      <td>Jordan has a population of 6 million, but have...</td>\n",
       "      <td>Egyptian billionaire wants to buy island to ho...</td>\n",
       "      <td>People would rather live near wind turbines th...</td>\n",
       "      <td>Canadian Prime Minister candidate Justin Trude...</td>\n",
       "      <td>Edward Snowden says Hillary Clinton 'ridiculou...</td>\n",
       "      <td>3 Indians get 20 years in jail for raping Japa...</td>\n",
       "      <td>The U.S. is finalizing a $1 billion arms deal ...</td>\n",
       "      <td>Amid refugee crisis, Hungary prime minister sa...</td>\n",
       "      <td>...</td>\n",
       "      <td>Canada gets a C on innovation report card, cor...</td>\n",
       "      <td>Drowned Syrian toddlers' family had not applie...</td>\n",
       "      <td>More than 100,000 asylum seekers enter Germany...</td>\n",
       "      <td>Nice but dim: Posh but stupid children do bett...</td>\n",
       "      <td>Canadian Forces have no role to play in Syria,...</td>\n",
       "      <td>One of the Indian women sentenced to be gang-r...</td>\n",
       "      <td>South Korea on the Brink of Becoming a Multicu...</td>\n",
       "      <td>Russian spy ship off the coast of US sub base ...</td>\n",
       "      <td>Iranian police to confiscate cars of poorly ve...</td>\n",
       "      <td>Peru: Indigenous Seize 11 Oil Wells Demanding ...</td>\n",
       "    </tr>\n",
       "  </tbody>\n",
       "</table>\n",
       "<p>1 rows × 27 columns</p>\n",
       "</div>"
      ],
      "text/plain": [
       "            Date  Label                                               Top1  \\\n",
       "3893  2015-09-04      0  Jordan has a population of 6 million, but have...   \n",
       "\n",
       "                                                   Top2  \\\n",
       "3893  Egyptian billionaire wants to buy island to ho...   \n",
       "\n",
       "                                                   Top3  \\\n",
       "3893  People would rather live near wind turbines th...   \n",
       "\n",
       "                                                   Top4  \\\n",
       "3893  Canadian Prime Minister candidate Justin Trude...   \n",
       "\n",
       "                                                   Top5  \\\n",
       "3893  Edward Snowden says Hillary Clinton 'ridiculou...   \n",
       "\n",
       "                                                   Top6  \\\n",
       "3893  3 Indians get 20 years in jail for raping Japa...   \n",
       "\n",
       "                                                   Top7  \\\n",
       "3893  The U.S. is finalizing a $1 billion arms deal ...   \n",
       "\n",
       "                                                   Top8  ...  \\\n",
       "3893  Amid refugee crisis, Hungary prime minister sa...  ...   \n",
       "\n",
       "                                                  Top16  \\\n",
       "3893  Canada gets a C on innovation report card, cor...   \n",
       "\n",
       "                                                  Top17  \\\n",
       "3893  Drowned Syrian toddlers' family had not applie...   \n",
       "\n",
       "                                                  Top18  \\\n",
       "3893  More than 100,000 asylum seekers enter Germany...   \n",
       "\n",
       "                                                  Top19  \\\n",
       "3893  Nice but dim: Posh but stupid children do bett...   \n",
       "\n",
       "                                                  Top20  \\\n",
       "3893  Canadian Forces have no role to play in Syria,...   \n",
       "\n",
       "                                                  Top21  \\\n",
       "3893  One of the Indian women sentenced to be gang-r...   \n",
       "\n",
       "                                                  Top22  \\\n",
       "3893  South Korea on the Brink of Becoming a Multicu...   \n",
       "\n",
       "                                                  Top23  \\\n",
       "3893  Russian spy ship off the coast of US sub base ...   \n",
       "\n",
       "                                                  Top24  \\\n",
       "3893  Iranian police to confiscate cars of poorly ve...   \n",
       "\n",
       "                                                  Top25  \n",
       "3893  Peru: Indigenous Seize 11 Oil Wells Demanding ...  \n",
       "\n",
       "[1 rows x 27 columns]"
      ]
     },
     "execution_count": 30,
     "metadata": {},
     "output_type": "execute_result"
    }
   ],
   "source": [
    "X_train.head(1)"
   ]
  },
  {
   "cell_type": "code",
   "execution_count": 31,
   "metadata": {},
   "outputs": [],
   "source": [
    "# Removing punctuations symbols\n",
    "data=X_train.iloc[:,2:]\n",
    "data.replace(\"[^a-zA-Z]\",\" \",regex=True, inplace=True)"
   ]
  },
  {
   "cell_type": "code",
   "execution_count": 32,
   "metadata": {},
   "outputs": [
    {
     "data": {
      "text/html": [
       "<div>\n",
       "<style scoped>\n",
       "    .dataframe tbody tr th:only-of-type {\n",
       "        vertical-align: middle;\n",
       "    }\n",
       "\n",
       "    .dataframe tbody tr th {\n",
       "        vertical-align: top;\n",
       "    }\n",
       "\n",
       "    .dataframe thead th {\n",
       "        text-align: right;\n",
       "    }\n",
       "</style>\n",
       "<table border=\"1\" class=\"dataframe\">\n",
       "  <thead>\n",
       "    <tr style=\"text-align: right;\">\n",
       "      <th></th>\n",
       "      <th>0</th>\n",
       "      <th>1</th>\n",
       "      <th>2</th>\n",
       "      <th>3</th>\n",
       "      <th>4</th>\n",
       "      <th>5</th>\n",
       "      <th>6</th>\n",
       "      <th>7</th>\n",
       "      <th>8</th>\n",
       "      <th>9</th>\n",
       "      <th>...</th>\n",
       "      <th>15</th>\n",
       "      <th>16</th>\n",
       "      <th>17</th>\n",
       "      <th>18</th>\n",
       "      <th>19</th>\n",
       "      <th>20</th>\n",
       "      <th>21</th>\n",
       "      <th>22</th>\n",
       "      <th>23</th>\n",
       "      <th>24</th>\n",
       "    </tr>\n",
       "  </thead>\n",
       "  <tbody>\n",
       "    <tr>\n",
       "      <th>3893</th>\n",
       "      <td>Jordan has a population of   million  but have...</td>\n",
       "      <td>Egyptian billionaire wants to buy island to ho...</td>\n",
       "      <td>People would rather live near wind turbines th...</td>\n",
       "      <td>Canadian Prime Minister candidate Justin Trude...</td>\n",
       "      <td>Edward Snowden says Hillary Clinton  ridiculou...</td>\n",
       "      <td>Indians get    years in jail for raping Japa...</td>\n",
       "      <td>The U S  is finalizing a    billion arms deal ...</td>\n",
       "      <td>Amid refugee crisis  Hungary prime minister sa...</td>\n",
       "      <td>More than       tractors have rolled into Pari...</td>\n",
       "      <td>Syria civil war  Russians filmed fighting alon...</td>\n",
       "      <td>...</td>\n",
       "      <td>Canada gets a C on innovation report card  cor...</td>\n",
       "      <td>Drowned Syrian toddlers  family had not applie...</td>\n",
       "      <td>More than         asylum seekers enter Germany...</td>\n",
       "      <td>Nice but dim  Posh but stupid children do bett...</td>\n",
       "      <td>Canadian Forces have no role to play in Syria ...</td>\n",
       "      <td>One of the Indian women sentenced to be gang r...</td>\n",
       "      <td>South Korea on the Brink of Becoming a Multicu...</td>\n",
       "      <td>Russian spy ship off the coast of US sub base ...</td>\n",
       "      <td>Iranian police to confiscate cars of poorly ve...</td>\n",
       "      <td>Peru  Indigenous Seize    Oil Wells Demanding ...</td>\n",
       "    </tr>\n",
       "  </tbody>\n",
       "</table>\n",
       "<p>1 rows × 25 columns</p>\n",
       "</div>"
      ],
      "text/plain": [
       "                                                      0  \\\n",
       "3893  Jordan has a population of   million  but have...   \n",
       "\n",
       "                                                      1  \\\n",
       "3893  Egyptian billionaire wants to buy island to ho...   \n",
       "\n",
       "                                                      2  \\\n",
       "3893  People would rather live near wind turbines th...   \n",
       "\n",
       "                                                      3  \\\n",
       "3893  Canadian Prime Minister candidate Justin Trude...   \n",
       "\n",
       "                                                      4  \\\n",
       "3893  Edward Snowden says Hillary Clinton  ridiculou...   \n",
       "\n",
       "                                                      5  \\\n",
       "3893    Indians get    years in jail for raping Japa...   \n",
       "\n",
       "                                                      6  \\\n",
       "3893  The U S  is finalizing a    billion arms deal ...   \n",
       "\n",
       "                                                      7  \\\n",
       "3893  Amid refugee crisis  Hungary prime minister sa...   \n",
       "\n",
       "                                                      8  \\\n",
       "3893  More than       tractors have rolled into Pari...   \n",
       "\n",
       "                                                      9  ...  \\\n",
       "3893  Syria civil war  Russians filmed fighting alon...  ...   \n",
       "\n",
       "                                                     15  \\\n",
       "3893  Canada gets a C on innovation report card  cor...   \n",
       "\n",
       "                                                     16  \\\n",
       "3893  Drowned Syrian toddlers  family had not applie...   \n",
       "\n",
       "                                                     17  \\\n",
       "3893  More than         asylum seekers enter Germany...   \n",
       "\n",
       "                                                     18  \\\n",
       "3893  Nice but dim  Posh but stupid children do bett...   \n",
       "\n",
       "                                                     19  \\\n",
       "3893  Canadian Forces have no role to play in Syria ...   \n",
       "\n",
       "                                                     20  \\\n",
       "3893  One of the Indian women sentenced to be gang r...   \n",
       "\n",
       "                                                     21  \\\n",
       "3893  South Korea on the Brink of Becoming a Multicu...   \n",
       "\n",
       "                                                     22  \\\n",
       "3893  Russian spy ship off the coast of US sub base ...   \n",
       "\n",
       "                                                     23  \\\n",
       "3893  Iranian police to confiscate cars of poorly ve...   \n",
       "\n",
       "                                                     24  \n",
       "3893  Peru  Indigenous Seize    Oil Wells Demanding ...  \n",
       "\n",
       "[1 rows x 25 columns]"
      ]
     },
     "execution_count": 32,
     "metadata": {},
     "output_type": "execute_result"
    }
   ],
   "source": [
    "# Renaming columns\n",
    "list1= [i for i in range(data.shape[1])]\n",
    "new_Index=[str(i) for i in list1]\n",
    "data.columns= new_Index\n",
    "data.head(1)"
   ]
  },
  {
   "cell_type": "code",
   "execution_count": 33,
   "metadata": {},
   "outputs": [
    {
     "data": {
      "text/html": [
       "<div>\n",
       "<style scoped>\n",
       "    .dataframe tbody tr th:only-of-type {\n",
       "        vertical-align: middle;\n",
       "    }\n",
       "\n",
       "    .dataframe tbody tr th {\n",
       "        vertical-align: top;\n",
       "    }\n",
       "\n",
       "    .dataframe thead th {\n",
       "        text-align: right;\n",
       "    }\n",
       "</style>\n",
       "<table border=\"1\" class=\"dataframe\">\n",
       "  <thead>\n",
       "    <tr style=\"text-align: right;\">\n",
       "      <th></th>\n",
       "      <th>0</th>\n",
       "      <th>1</th>\n",
       "      <th>2</th>\n",
       "      <th>3</th>\n",
       "      <th>4</th>\n",
       "      <th>5</th>\n",
       "      <th>6</th>\n",
       "      <th>7</th>\n",
       "      <th>8</th>\n",
       "      <th>9</th>\n",
       "      <th>...</th>\n",
       "      <th>15</th>\n",
       "      <th>16</th>\n",
       "      <th>17</th>\n",
       "      <th>18</th>\n",
       "      <th>19</th>\n",
       "      <th>20</th>\n",
       "      <th>21</th>\n",
       "      <th>22</th>\n",
       "      <th>23</th>\n",
       "      <th>24</th>\n",
       "    </tr>\n",
       "  </thead>\n",
       "  <tbody>\n",
       "    <tr>\n",
       "      <th>3893</th>\n",
       "      <td>jordan has a population of   million  but have...</td>\n",
       "      <td>egyptian billionaire wants to buy island to ho...</td>\n",
       "      <td>people would rather live near wind turbines th...</td>\n",
       "      <td>canadian prime minister candidate justin trude...</td>\n",
       "      <td>edward snowden says hillary clinton  ridiculou...</td>\n",
       "      <td>indians get    years in jail for raping japa...</td>\n",
       "      <td>the u s  is finalizing a    billion arms deal ...</td>\n",
       "      <td>amid refugee crisis  hungary prime minister sa...</td>\n",
       "      <td>more than       tractors have rolled into pari...</td>\n",
       "      <td>syria civil war  russians filmed fighting alon...</td>\n",
       "      <td>...</td>\n",
       "      <td>canada gets a c on innovation report card  cor...</td>\n",
       "      <td>drowned syrian toddlers  family had not applie...</td>\n",
       "      <td>more than         asylum seekers enter germany...</td>\n",
       "      <td>nice but dim  posh but stupid children do bett...</td>\n",
       "      <td>canadian forces have no role to play in syria ...</td>\n",
       "      <td>one of the indian women sentenced to be gang r...</td>\n",
       "      <td>south korea on the brink of becoming a multicu...</td>\n",
       "      <td>russian spy ship off the coast of us sub base ...</td>\n",
       "      <td>iranian police to confiscate cars of poorly ve...</td>\n",
       "      <td>peru  indigenous seize    oil wells demanding ...</td>\n",
       "    </tr>\n",
       "  </tbody>\n",
       "</table>\n",
       "<p>1 rows × 25 columns</p>\n",
       "</div>"
      ],
      "text/plain": [
       "                                                      0  \\\n",
       "3893  jordan has a population of   million  but have...   \n",
       "\n",
       "                                                      1  \\\n",
       "3893  egyptian billionaire wants to buy island to ho...   \n",
       "\n",
       "                                                      2  \\\n",
       "3893  people would rather live near wind turbines th...   \n",
       "\n",
       "                                                      3  \\\n",
       "3893  canadian prime minister candidate justin trude...   \n",
       "\n",
       "                                                      4  \\\n",
       "3893  edward snowden says hillary clinton  ridiculou...   \n",
       "\n",
       "                                                      5  \\\n",
       "3893    indians get    years in jail for raping japa...   \n",
       "\n",
       "                                                      6  \\\n",
       "3893  the u s  is finalizing a    billion arms deal ...   \n",
       "\n",
       "                                                      7  \\\n",
       "3893  amid refugee crisis  hungary prime minister sa...   \n",
       "\n",
       "                                                      8  \\\n",
       "3893  more than       tractors have rolled into pari...   \n",
       "\n",
       "                                                      9  ...  \\\n",
       "3893  syria civil war  russians filmed fighting alon...  ...   \n",
       "\n",
       "                                                     15  \\\n",
       "3893  canada gets a c on innovation report card  cor...   \n",
       "\n",
       "                                                     16  \\\n",
       "3893  drowned syrian toddlers  family had not applie...   \n",
       "\n",
       "                                                     17  \\\n",
       "3893  more than         asylum seekers enter germany...   \n",
       "\n",
       "                                                     18  \\\n",
       "3893  nice but dim  posh but stupid children do bett...   \n",
       "\n",
       "                                                     19  \\\n",
       "3893  canadian forces have no role to play in syria ...   \n",
       "\n",
       "                                                     20  \\\n",
       "3893  one of the indian women sentenced to be gang r...   \n",
       "\n",
       "                                                     21  \\\n",
       "3893  south korea on the brink of becoming a multicu...   \n",
       "\n",
       "                                                     22  \\\n",
       "3893  russian spy ship off the coast of us sub base ...   \n",
       "\n",
       "                                                     23  \\\n",
       "3893  iranian police to confiscate cars of poorly ve...   \n",
       "\n",
       "                                                     24  \n",
       "3893  peru  indigenous seize    oil wells demanding ...  \n",
       "\n",
       "[1 rows x 25 columns]"
      ]
     },
     "execution_count": 33,
     "metadata": {},
     "output_type": "execute_result"
    }
   ],
   "source": [
    "# Convertng to lower case\n",
    "for index in new_Index:\n",
    "    data[index]=data[index].str.lower()\n",
    "data.head(1)"
   ]
  },
  {
   "cell_type": "code",
   "execution_count": 34,
   "metadata": {},
   "outputs": [
    {
     "data": {
      "text/plain": [
       "'jordan has a population of   million  but have taken in     million refugees  all with little protest or mass global coverage  egyptian billionaire wants to buy island to house migrants  people would rather live near wind turbines than fracking wells  canadian prime minister candidate justin trudeau promises to legalize marijuana  right away  if elected edward snowden says hillary clinton  ridiculous  to think emails were secure   snowden said in al jazeera interview that ordinary government workers would very likely face prosecution for sending classified emails over personal server    indians get    years in jail for raping japanese student the u s  is finalizing a    billion arms deal with saudi arabia amid refugee crisis  hungary prime minister says muslims not welcome  viktor orban says history of ottoman rule means hungarians will not accept large scale muslim immigration more than       tractors have rolled into paris as farmers attempted to clog up the capital s roads in protest of their falling incomes  syria civil war  russians filmed fighting alongside president assad s forces australian prime minister tony abbott says the  very sad  images of a syrian boy lying lifeless on a turkish beach demonstrate the need for countries to adopt tough policies to stop asylum seekers arriving by boat  netlfix has apparently reduced piracy in australia i want a blue eyed yazidi   a teenager describes what it s like on the isis sex slave market     girls hospitalized due to mysterious gas  afghanistan  migrant smuggling in europe is now worth billions   with thousands of migrants pouring out of afghanistan and the middle east  the business of smuggling them across the balkans into the european union has grown even larger than the illicit trade in drugs and weapons canada gets a c on innovation report card  corporate r amp d lowest of    countries drowned syrian toddlers  family had not applied for canada entry more than         asylum seekers enter germany in august nice but dim  posh but stupid children do better than poor yet gifted canadian forces have no role to play in syria  iraq  mulcair one of the indian women sentenced to be gang raped speaks of her fear south korea on the brink of becoming a multicultural country russian spy ship off the coast of us sub base georgia iranian police to confiscate cars of poorly veiled women  says the head of tehrans traffic police  gen  teymour hosseini peru  indigenous seize    oil wells demanding spill clean up'"
      ]
     },
     "execution_count": 34,
     "metadata": {},
     "output_type": "execute_result"
    }
   ],
   "source": [
    "# demo\n",
    "' '.join(str(x) for x in data.iloc[0,0:])"
   ]
  },
  {
   "cell_type": "code",
   "execution_count": 35,
   "metadata": {},
   "outputs": [],
   "source": [
    "headlines = []\n",
    "for row in range(0,len(data.index)):\n",
    "    headlines.append(' '.join(str(x) for x in data.iloc[row,0:]))"
   ]
  },
  {
   "cell_type": "code",
   "execution_count": 36,
   "metadata": {},
   "outputs": [
    {
     "data": {
      "text/plain": [
       "'jordan has a population of   million  but have taken in     million refugees  all with little protest or mass global coverage  egyptian billionaire wants to buy island to house migrants  people would rather live near wind turbines than fracking wells  canadian prime minister candidate justin trudeau promises to legalize marijuana  right away  if elected edward snowden says hillary clinton  ridiculous  to think emails were secure   snowden said in al jazeera interview that ordinary government workers would very likely face prosecution for sending classified emails over personal server    indians get    years in jail for raping japanese student the u s  is finalizing a    billion arms deal with saudi arabia amid refugee crisis  hungary prime minister says muslims not welcome  viktor orban says history of ottoman rule means hungarians will not accept large scale muslim immigration more than       tractors have rolled into paris as farmers attempted to clog up the capital s roads in protest of their falling incomes  syria civil war  russians filmed fighting alongside president assad s forces australian prime minister tony abbott says the  very sad  images of a syrian boy lying lifeless on a turkish beach demonstrate the need for countries to adopt tough policies to stop asylum seekers arriving by boat  netlfix has apparently reduced piracy in australia i want a blue eyed yazidi   a teenager describes what it s like on the isis sex slave market     girls hospitalized due to mysterious gas  afghanistan  migrant smuggling in europe is now worth billions   with thousands of migrants pouring out of afghanistan and the middle east  the business of smuggling them across the balkans into the european union has grown even larger than the illicit trade in drugs and weapons canada gets a c on innovation report card  corporate r amp d lowest of    countries drowned syrian toddlers  family had not applied for canada entry more than         asylum seekers enter germany in august nice but dim  posh but stupid children do better than poor yet gifted canadian forces have no role to play in syria  iraq  mulcair one of the indian women sentenced to be gang raped speaks of her fear south korea on the brink of becoming a multicultural country russian spy ship off the coast of us sub base georgia iranian police to confiscate cars of poorly veiled women  says the head of tehrans traffic police  gen  teymour hosseini peru  indigenous seize    oil wells demanding spill clean up'"
      ]
     },
     "execution_count": 36,
     "metadata": {},
     "output_type": "execute_result"
    }
   ],
   "source": [
    "headlines[0]"
   ]
  },
  {
   "cell_type": "code",
   "execution_count": 37,
   "metadata": {},
   "outputs": [
    {
     "data": {
      "text/plain": [
       "2493"
      ]
     },
     "execution_count": 37,
     "metadata": {},
     "output_type": "execute_result"
    }
   ],
   "source": [
    "headlines[0].__len__()"
   ]
  },
  {
   "cell_type": "code",
   "execution_count": 38,
   "metadata": {},
   "outputs": [
    {
     "data": {
      "text/plain": [
       "2870"
      ]
     },
     "execution_count": 38,
     "metadata": {},
     "output_type": "execute_result"
    }
   ],
   "source": [
    "headlines.__len__()"
   ]
  },
  {
   "cell_type": "code",
   "execution_count": 39,
   "metadata": {},
   "outputs": [
    {
     "data": {
      "text/plain": [
       "'jrn h  ppuln f   lln  bu hve ken n     lln refugee  ll wh lle pre r  glbl cverge  egpn bllnre wn  bu ln  hue grn  peple wul rher lve ner wn urbne hn frckng well  cnn pre ner cne jun rueu pre  leglze rjun  rgh w  f elece ewr nwen  hllr clnn  rculu   hnk el were ecure   nwen  n l jzeer nervew h rnr gvernen wrker wul ver lkel fce precun fr enng clfe el ver pernl erver    nn ge    er n jl fr rpng jpnee uen he u    fnlzng     blln r el wh u rb  refugee cr  hungr pre ner  ul n welce  vkr rbn  hr f n rule en hungrn wll n ccep lrge cle ul grn re hn       rcr hve rlle n pr  frer epe  clg up he cpl  r n pre f her fllng nce  r cvl wr  run fle fghng lnge preen   frce urln pre ner n bb  he  ver   ge f  rn b lng lfele n  urkh bech enre he nee fr cunre  p ugh plce  p lu eeker rrvng b b  nelfx h pprenl reuce prc n url  wn  blue ee z    eenger ecrbe wh   lke n he  ex lve rke     grl hplze ue  eru g  fghnn  grn ugglng n eurpe  nw wrh blln   wh hun f grn purng u f fghnn n he le e  he bune f ugglng he cr he blkn n he eurpen unn h grwn even lrger hn he llc re n rug n wepn cn ge  c n nnvn repr cr  crpre r p  lwe f    cunre rwne rn ler  fl h n pple fr cn enr re hn         lu eeker ener gern n ugu nce bu   ph bu up chlren  beer hn pr e gfe cnn frce hve n rle  pl n r  rq  ulcr ne f he nn wen enence  be gng rpe pek f her fer uh kre n he brnk f becng  ulculurl cunr run p hp ff he c f u ub be gerg rnn plce  cnfce cr f prl vele wen   he he f ehrn rffc plce  gen  eur hen peru  ngenu eze    l well enng pll clen up'"
      ]
     },
     "execution_count": 39,
     "metadata": {},
     "output_type": "execute_result"
    }
   ],
   "source": [
    "# headlines[0]\n",
    "from nltk.corpus import stopwords\n",
    "new = ''.join([word for word in headlines[0] if word not in stopwords.words('english')])\n",
    "new"
   ]
  },
  {
   "cell_type": "code",
   "execution_count": 40,
   "metadata": {},
   "outputs": [],
   "source": [
    "# remove stopwords\n",
    "# import nltk\n",
    "# from nltk.corpus import stopwords\n",
    "\n",
    "# for headline in headlines:\n",
    "#     headline = ''.join([word for word in headline if word not in stopwords.words('english')])"
   ]
  },
  {
   "cell_type": "markdown",
   "metadata": {},
   "source": [
    "### Bag of Words"
   ]
  },
  {
   "cell_type": "code",
   "execution_count": 73,
   "metadata": {},
   "outputs": [],
   "source": [
    "from sklearn.feature_extraction.text import CountVectorizer\n",
    "from sklearn.ensemble import RandomForestClassifier\n",
    "from sklearn.naive_bayes import MultinomialNB"
   ]
  },
  {
   "cell_type": "code",
   "execution_count": 74,
   "metadata": {},
   "outputs": [],
   "source": [
    "## implement BAG OF WORDS\n",
    "countvector = CountVectorizer(ngram_range=(1,3))\n",
    "traindataset = countvector.fit_transform(headlines)"
   ]
  },
  {
   "cell_type": "code",
   "execution_count": 75,
   "metadata": {},
   "outputs": [
    {
     "data": {
      "text/plain": [
       "(2870, 1215888)"
      ]
     },
     "execution_count": 75,
     "metadata": {},
     "output_type": "execute_result"
    }
   ],
   "source": [
    "traindataset.shape"
   ]
  },
  {
   "cell_type": "code",
   "execution_count": 76,
   "metadata": {},
   "outputs": [
    {
     "data": {
      "text/plain": [
       "1    1518\n",
       "0    1352\n",
       "Name: Label, dtype: int64"
      ]
     },
     "execution_count": 76,
     "metadata": {},
     "output_type": "execute_result"
    }
   ],
   "source": [
    "y_train.value_counts()"
   ]
  },
  {
   "cell_type": "code",
   "execution_count": 77,
   "metadata": {},
   "outputs": [
    {
     "data": {
      "text/html": [
       "<style>#sk-container-id-3 {color: black;background-color: white;}#sk-container-id-3 pre{padding: 0;}#sk-container-id-3 div.sk-toggleable {background-color: white;}#sk-container-id-3 label.sk-toggleable__label {cursor: pointer;display: block;width: 100%;margin-bottom: 0;padding: 0.3em;box-sizing: border-box;text-align: center;}#sk-container-id-3 label.sk-toggleable__label-arrow:before {content: \"▸\";float: left;margin-right: 0.25em;color: #696969;}#sk-container-id-3 label.sk-toggleable__label-arrow:hover:before {color: black;}#sk-container-id-3 div.sk-estimator:hover label.sk-toggleable__label-arrow:before {color: black;}#sk-container-id-3 div.sk-toggleable__content {max-height: 0;max-width: 0;overflow: hidden;text-align: left;background-color: #f0f8ff;}#sk-container-id-3 div.sk-toggleable__content pre {margin: 0.2em;color: black;border-radius: 0.25em;background-color: #f0f8ff;}#sk-container-id-3 input.sk-toggleable__control:checked~div.sk-toggleable__content {max-height: 200px;max-width: 100%;overflow: auto;}#sk-container-id-3 input.sk-toggleable__control:checked~label.sk-toggleable__label-arrow:before {content: \"▾\";}#sk-container-id-3 div.sk-estimator input.sk-toggleable__control:checked~label.sk-toggleable__label {background-color: #d4ebff;}#sk-container-id-3 div.sk-label input.sk-toggleable__control:checked~label.sk-toggleable__label {background-color: #d4ebff;}#sk-container-id-3 input.sk-hidden--visually {border: 0;clip: rect(1px 1px 1px 1px);clip: rect(1px, 1px, 1px, 1px);height: 1px;margin: -1px;overflow: hidden;padding: 0;position: absolute;width: 1px;}#sk-container-id-3 div.sk-estimator {font-family: monospace;background-color: #f0f8ff;border: 1px dotted black;border-radius: 0.25em;box-sizing: border-box;margin-bottom: 0.5em;}#sk-container-id-3 div.sk-estimator:hover {background-color: #d4ebff;}#sk-container-id-3 div.sk-parallel-item::after {content: \"\";width: 100%;border-bottom: 1px solid gray;flex-grow: 1;}#sk-container-id-3 div.sk-label:hover label.sk-toggleable__label {background-color: #d4ebff;}#sk-container-id-3 div.sk-serial::before {content: \"\";position: absolute;border-left: 1px solid gray;box-sizing: border-box;top: 0;bottom: 0;left: 50%;z-index: 0;}#sk-container-id-3 div.sk-serial {display: flex;flex-direction: column;align-items: center;background-color: white;padding-right: 0.2em;padding-left: 0.2em;position: relative;}#sk-container-id-3 div.sk-item {position: relative;z-index: 1;}#sk-container-id-3 div.sk-parallel {display: flex;align-items: stretch;justify-content: center;background-color: white;position: relative;}#sk-container-id-3 div.sk-item::before, #sk-container-id-3 div.sk-parallel-item::before {content: \"\";position: absolute;border-left: 1px solid gray;box-sizing: border-box;top: 0;bottom: 0;left: 50%;z-index: -1;}#sk-container-id-3 div.sk-parallel-item {display: flex;flex-direction: column;z-index: 1;position: relative;background-color: white;}#sk-container-id-3 div.sk-parallel-item:first-child::after {align-self: flex-end;width: 50%;}#sk-container-id-3 div.sk-parallel-item:last-child::after {align-self: flex-start;width: 50%;}#sk-container-id-3 div.sk-parallel-item:only-child::after {width: 0;}#sk-container-id-3 div.sk-dashed-wrapped {border: 1px dashed gray;margin: 0 0.4em 0.5em 0.4em;box-sizing: border-box;padding-bottom: 0.4em;background-color: white;}#sk-container-id-3 div.sk-label label {font-family: monospace;font-weight: bold;display: inline-block;line-height: 1.2em;}#sk-container-id-3 div.sk-label-container {text-align: center;}#sk-container-id-3 div.sk-container {/* jupyter's `normalize.less` sets `[hidden] { display: none; }` but bootstrap.min.css set `[hidden] { display: none !important; }` so we also need the `!important` here to be able to override the default hidden behavior on the sphinx rendered scikit-learn.org. See: https://github.com/scikit-learn/scikit-learn/issues/21755 */display: inline-block !important;position: relative;}#sk-container-id-3 div.sk-text-repr-fallback {display: none;}</style><div id=\"sk-container-id-3\" class=\"sk-top-container\"><div class=\"sk-text-repr-fallback\"><pre>MultinomialNB()</pre><b>In a Jupyter environment, please rerun this cell to show the HTML representation or trust the notebook. <br />On GitHub, the HTML representation is unable to render, please try loading this page with nbviewer.org.</b></div><div class=\"sk-container\" hidden><div class=\"sk-item\"><div class=\"sk-estimator sk-toggleable\"><input class=\"sk-toggleable__control sk-hidden--visually\" id=\"sk-estimator-id-3\" type=\"checkbox\" checked><label for=\"sk-estimator-id-3\" class=\"sk-toggleable__label sk-toggleable__label-arrow\">MultinomialNB</label><div class=\"sk-toggleable__content\"><pre>MultinomialNB()</pre></div></div></div></div></div>"
      ],
      "text/plain": [
       "MultinomialNB()"
      ]
     },
     "execution_count": 77,
     "metadata": {},
     "output_type": "execute_result"
    }
   ],
   "source": [
    "# implement naive bayes classifier and random forest classifier\n",
    "randomforestclassifier = RandomForestClassifier(n_estimators=200, criterion='entropy')\n",
    "randomforestclassifier.fit(traindataset, y_train)\n",
    "\n",
    "naive = MultinomialNB()\n",
    "naive.fit(traindataset, y_train)"
   ]
  },
  {
   "cell_type": "code",
   "execution_count": 78,
   "metadata": {},
   "outputs": [
    {
     "data": {
      "text/html": [
       "<div>\n",
       "<style scoped>\n",
       "    .dataframe tbody tr th:only-of-type {\n",
       "        vertical-align: middle;\n",
       "    }\n",
       "\n",
       "    .dataframe tbody tr th {\n",
       "        vertical-align: top;\n",
       "    }\n",
       "\n",
       "    .dataframe thead th {\n",
       "        text-align: right;\n",
       "    }\n",
       "</style>\n",
       "<table border=\"1\" class=\"dataframe\">\n",
       "  <thead>\n",
       "    <tr style=\"text-align: right;\">\n",
       "      <th></th>\n",
       "      <th>0</th>\n",
       "      <th>1</th>\n",
       "      <th>2</th>\n",
       "      <th>3</th>\n",
       "      <th>4</th>\n",
       "      <th>5</th>\n",
       "      <th>6</th>\n",
       "      <th>7</th>\n",
       "      <th>8</th>\n",
       "      <th>9</th>\n",
       "      <th>...</th>\n",
       "      <th>15</th>\n",
       "      <th>16</th>\n",
       "      <th>17</th>\n",
       "      <th>18</th>\n",
       "      <th>19</th>\n",
       "      <th>20</th>\n",
       "      <th>21</th>\n",
       "      <th>22</th>\n",
       "      <th>23</th>\n",
       "      <th>24</th>\n",
       "    </tr>\n",
       "  </thead>\n",
       "  <tbody>\n",
       "    <tr>\n",
       "      <th>3106</th>\n",
       "      <td>drug decriminalization in portugal decreases n...</td>\n",
       "      <td>pounds of silver  possibly the largest ...</td>\n",
       "      <td>canadian mining company destroys panama rainfo...</td>\n",
       "      <td>married olympic couple cant room together  cla...</td>\n",
       "      <td>infant buried alive minutes after birth   fath...</td>\n",
       "      <td>shell could face huge fine for nigeria spill  ...</td>\n",
       "      <td>canada b c  launches massive new program to wi...</td>\n",
       "      <td>rupert murdoch faces shareholder revolt at new...</td>\n",
       "      <td>aust government to force citizens to hand over...</td>\n",
       "      <td>a top muslim cleric in russia s tatarstan prov...</td>\n",
       "      <td>...</td>\n",
       "      <td>ian tomlinson death  pc not guilty</td>\n",
       "      <td>mexico admits to    journalists murdered since...</td>\n",
       "      <td>as china squeezes nepal  tibetan escape route ...</td>\n",
       "      <td>mexican teen s brothel escape triggers clampdo...</td>\n",
       "      <td>no sign of assad after bomb kills kin  rebels ...</td>\n",
       "      <td>this is not a composite photo   site of an alu...</td>\n",
       "      <td>syrian rebels now control all border post betw...</td>\n",
       "      <td>young gorillas seen dismantling poachers traps</td>\n",
       "      <td>hong kong imported    million kilograms of sha...</td>\n",
       "      <td>australian government moves to expand surveill...</td>\n",
       "    </tr>\n",
       "  </tbody>\n",
       "</table>\n",
       "<p>1 rows × 25 columns</p>\n",
       "</div>"
      ],
      "text/plain": [
       "                                                      0  \\\n",
       "3106  drug decriminalization in portugal decreases n...   \n",
       "\n",
       "                                                      1  \\\n",
       "3106         pounds of silver  possibly the largest ...   \n",
       "\n",
       "                                                      2  \\\n",
       "3106  canadian mining company destroys panama rainfo...   \n",
       "\n",
       "                                                      3  \\\n",
       "3106  married olympic couple cant room together  cla...   \n",
       "\n",
       "                                                      4  \\\n",
       "3106  infant buried alive minutes after birth   fath...   \n",
       "\n",
       "                                                      5  \\\n",
       "3106  shell could face huge fine for nigeria spill  ...   \n",
       "\n",
       "                                                      6  \\\n",
       "3106  canada b c  launches massive new program to wi...   \n",
       "\n",
       "                                                      7  \\\n",
       "3106  rupert murdoch faces shareholder revolt at new...   \n",
       "\n",
       "                                                      8  \\\n",
       "3106  aust government to force citizens to hand over...   \n",
       "\n",
       "                                                      9  ...  \\\n",
       "3106  a top muslim cleric in russia s tatarstan prov...  ...   \n",
       "\n",
       "                                      15  \\\n",
       "3106  ian tomlinson death  pc not guilty   \n",
       "\n",
       "                                                     16  \\\n",
       "3106  mexico admits to    journalists murdered since...   \n",
       "\n",
       "                                                     17  \\\n",
       "3106  as china squeezes nepal  tibetan escape route ...   \n",
       "\n",
       "                                                     18  \\\n",
       "3106  mexican teen s brothel escape triggers clampdo...   \n",
       "\n",
       "                                                     19  \\\n",
       "3106  no sign of assad after bomb kills kin  rebels ...   \n",
       "\n",
       "                                                     20  \\\n",
       "3106  this is not a composite photo   site of an alu...   \n",
       "\n",
       "                                                     21  \\\n",
       "3106  syrian rebels now control all border post betw...   \n",
       "\n",
       "                                                  22  \\\n",
       "3106  young gorillas seen dismantling poachers traps   \n",
       "\n",
       "                                                     23  \\\n",
       "3106  hong kong imported    million kilograms of sha...   \n",
       "\n",
       "                                                     24  \n",
       "3106  australian government moves to expand surveill...  \n",
       "\n",
       "[1 rows x 25 columns]"
      ]
     },
     "execution_count": 78,
     "metadata": {},
     "output_type": "execute_result"
    }
   ],
   "source": [
    "X_test.head(1)"
   ]
  },
  {
   "cell_type": "code",
   "execution_count": 79,
   "metadata": {},
   "outputs": [],
   "source": [
    "X_test = X_test.iloc[:,2:]\n",
    "\n",
    "X_test.replace(\"[^a-zA-Z]\",\" \",regex=True, inplace=True)\n",
    "\n",
    "list1 = [i for i in range(X_test.shape[1])]\n",
    "new_Index=[str(i) for i in list1]\n",
    "X_test.columns= new_Index\n",
    "\n",
    "for index in X_test.columns:\n",
    "    X_test[index]=X_test[index].str.lower()\n",
    "\n",
    "test_transform = []\n",
    "for row in range(0,len(X_test.index)):\n",
    "    test_transform.append(' '.join(str(x) for x in X_test.iloc[row,0:]))"
   ]
  },
  {
   "cell_type": "code",
   "execution_count": 80,
   "metadata": {},
   "outputs": [
    {
     "data": {
      "text/html": [
       "<div>\n",
       "<style scoped>\n",
       "    .dataframe tbody tr th:only-of-type {\n",
       "        vertical-align: middle;\n",
       "    }\n",
       "\n",
       "    .dataframe tbody tr th {\n",
       "        vertical-align: top;\n",
       "    }\n",
       "\n",
       "    .dataframe thead th {\n",
       "        text-align: right;\n",
       "    }\n",
       "</style>\n",
       "<table border=\"1\" class=\"dataframe\">\n",
       "  <thead>\n",
       "    <tr style=\"text-align: right;\">\n",
       "      <th></th>\n",
       "      <th>0</th>\n",
       "      <th>1</th>\n",
       "      <th>2</th>\n",
       "      <th>3</th>\n",
       "      <th>4</th>\n",
       "      <th>5</th>\n",
       "      <th>6</th>\n",
       "      <th>7</th>\n",
       "      <th>8</th>\n",
       "      <th>9</th>\n",
       "      <th>...</th>\n",
       "      <th>13</th>\n",
       "      <th>14</th>\n",
       "      <th>15</th>\n",
       "      <th>16</th>\n",
       "      <th>17</th>\n",
       "      <th>18</th>\n",
       "      <th>19</th>\n",
       "      <th>20</th>\n",
       "      <th>21</th>\n",
       "      <th>22</th>\n",
       "    </tr>\n",
       "  </thead>\n",
       "  <tbody>\n",
       "    <tr>\n",
       "      <th>3106</th>\n",
       "      <td>canadian mining company destroys panama rainfo...</td>\n",
       "      <td>married olympic couple cant room together  cla...</td>\n",
       "      <td>infant buried alive minutes after birth   fath...</td>\n",
       "      <td>shell could face huge fine for nigeria spill  ...</td>\n",
       "      <td>canada b c  launches massive new program to wi...</td>\n",
       "      <td>rupert murdoch faces shareholder revolt at new...</td>\n",
       "      <td>aust government to force citizens to hand over...</td>\n",
       "      <td>a top muslim cleric in russia s tatarstan prov...</td>\n",
       "      <td>beyond foxconn  more dirt on the factories mak...</td>\n",
       "      <td>french rightwing lawmakers raised their eyebro...</td>\n",
       "      <td>...</td>\n",
       "      <td>ian tomlinson death  pc not guilty</td>\n",
       "      <td>mexico admits to    journalists murdered since...</td>\n",
       "      <td>as china squeezes nepal  tibetan escape route ...</td>\n",
       "      <td>mexican teen s brothel escape triggers clampdo...</td>\n",
       "      <td>no sign of assad after bomb kills kin  rebels ...</td>\n",
       "      <td>this is not a composite photo   site of an alu...</td>\n",
       "      <td>syrian rebels now control all border post betw...</td>\n",
       "      <td>young gorillas seen dismantling poachers traps</td>\n",
       "      <td>hong kong imported    million kilograms of sha...</td>\n",
       "      <td>australian government moves to expand surveill...</td>\n",
       "    </tr>\n",
       "  </tbody>\n",
       "</table>\n",
       "<p>1 rows × 23 columns</p>\n",
       "</div>"
      ],
      "text/plain": [
       "                                                      0  \\\n",
       "3106  canadian mining company destroys panama rainfo...   \n",
       "\n",
       "                                                      1  \\\n",
       "3106  married olympic couple cant room together  cla...   \n",
       "\n",
       "                                                      2  \\\n",
       "3106  infant buried alive minutes after birth   fath...   \n",
       "\n",
       "                                                      3  \\\n",
       "3106  shell could face huge fine for nigeria spill  ...   \n",
       "\n",
       "                                                      4  \\\n",
       "3106  canada b c  launches massive new program to wi...   \n",
       "\n",
       "                                                      5  \\\n",
       "3106  rupert murdoch faces shareholder revolt at new...   \n",
       "\n",
       "                                                      6  \\\n",
       "3106  aust government to force citizens to hand over...   \n",
       "\n",
       "                                                      7  \\\n",
       "3106  a top muslim cleric in russia s tatarstan prov...   \n",
       "\n",
       "                                                      8  \\\n",
       "3106  beyond foxconn  more dirt on the factories mak...   \n",
       "\n",
       "                                                      9  ...  \\\n",
       "3106  french rightwing lawmakers raised their eyebro...  ...   \n",
       "\n",
       "                                      13  \\\n",
       "3106  ian tomlinson death  pc not guilty   \n",
       "\n",
       "                                                     14  \\\n",
       "3106  mexico admits to    journalists murdered since...   \n",
       "\n",
       "                                                     15  \\\n",
       "3106  as china squeezes nepal  tibetan escape route ...   \n",
       "\n",
       "                                                     16  \\\n",
       "3106  mexican teen s brothel escape triggers clampdo...   \n",
       "\n",
       "                                                     17  \\\n",
       "3106  no sign of assad after bomb kills kin  rebels ...   \n",
       "\n",
       "                                                     18  \\\n",
       "3106  this is not a composite photo   site of an alu...   \n",
       "\n",
       "                                                     19  \\\n",
       "3106  syrian rebels now control all border post betw...   \n",
       "\n",
       "                                                  20  \\\n",
       "3106  young gorillas seen dismantling poachers traps   \n",
       "\n",
       "                                                     21  \\\n",
       "3106  hong kong imported    million kilograms of sha...   \n",
       "\n",
       "                                                     22  \n",
       "3106  australian government moves to expand surveill...  \n",
       "\n",
       "[1 rows x 23 columns]"
      ]
     },
     "execution_count": 80,
     "metadata": {},
     "output_type": "execute_result"
    }
   ],
   "source": [
    "X_test.head(1)"
   ]
  },
  {
   "cell_type": "code",
   "execution_count": 82,
   "metadata": {},
   "outputs": [],
   "source": [
    "# Predict for the Test Dataset\n",
    "test_dataset = countvector.transform(test_transform)\n",
    "rf_pred = randomforestclassifier.predict(test_dataset)\n",
    "naive_pred = naive.predict(test_dataset)"
   ]
  },
  {
   "cell_type": "code",
   "execution_count": 83,
   "metadata": {},
   "outputs": [],
   "source": [
    "## Import library to check accuracy\n",
    "from sklearn.metrics import classification_report,confusion_matrix,accuracy_score"
   ]
  },
  {
   "cell_type": "code",
   "execution_count": 84,
   "metadata": {},
   "outputs": [
    {
     "name": "stdout",
     "output_type": "stream",
     "text": [
      "[[ 43 540]\n",
      " [ 72 576]]\n",
      "0.5028432168968319\n",
      "              precision    recall  f1-score   support\n",
      "\n",
      "           0       0.37      0.07      0.12       583\n",
      "           1       0.52      0.89      0.65       648\n",
      "\n",
      "    accuracy                           0.50      1231\n",
      "   macro avg       0.45      0.48      0.39      1231\n",
      "weighted avg       0.45      0.50      0.40      1231\n",
      "\n"
     ]
    }
   ],
   "source": [
    "# Evaluation of the random forest\n",
    "matrix=confusion_matrix(y_test, rf_pred)\n",
    "print(matrix)\n",
    "score=accuracy_score(y_test,rf_pred)\n",
    "print(score)\n",
    "report=classification_report(y_test,rf_pred)\n",
    "print(report)"
   ]
  },
  {
   "cell_type": "code",
   "execution_count": 86,
   "metadata": {},
   "outputs": [
    {
     "name": "stdout",
     "output_type": "stream",
     "text": [
      "[[ 78 505]\n",
      " [ 91 557]]\n",
      "0.5158407798537774\n",
      "              precision    recall  f1-score   support\n",
      "\n",
      "           0       0.46      0.13      0.21       583\n",
      "           1       0.52      0.86      0.65       648\n",
      "\n",
      "    accuracy                           0.52      1231\n",
      "   macro avg       0.49      0.50      0.43      1231\n",
      "weighted avg       0.49      0.52      0.44      1231\n",
      "\n"
     ]
    }
   ],
   "source": [
    "# Evaluation of naive bayes\n",
    "matrix=confusion_matrix(y_test,naive_pred)\n",
    "print(matrix)\n",
    "score=accuracy_score(y_test,naive_pred)\n",
    "print(score)\n",
    "report=classification_report(y_test,naive_pred)\n",
    "print(report)"
   ]
  },
  {
   "cell_type": "code",
   "execution_count": null,
   "metadata": {},
   "outputs": [],
   "source": []
  }
 ],
 "metadata": {
  "kernelspec": {
   "display_name": "Python 3",
   "language": "python",
   "name": "python3"
  },
  "language_info": {
   "codemirror_mode": {
    "name": "ipython",
    "version": 3
   },
   "file_extension": ".py",
   "mimetype": "text/x-python",
   "name": "python",
   "nbconvert_exporter": "python",
   "pygments_lexer": "ipython3",
   "version": "3.9.16"
  }
 },
 "nbformat": 4,
 "nbformat_minor": 2
}
